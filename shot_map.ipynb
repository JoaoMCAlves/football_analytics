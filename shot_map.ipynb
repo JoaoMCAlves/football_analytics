{
 "cells": [
  {
   "cell_type": "code",
   "execution_count": 2,
   "metadata": {},
   "outputs": [
    {
     "name": "stdout",
     "output_type": "stream",
     "text": [
      "zsh:1: command not found: pip\n"
     ]
    }
   ],
   "source": [
    "!pip install highlight_text\n",
    "from highlight_text import ax_text,fig_text\n",
    "\n",
    "import mplsoccer\n",
    "import matplotlib as mpl\n",
    "import matplotlib.pyplot as plt\n",
    "import matplotlib.patheffects as path_effects\n",
    "import numpy as np\n",
    "from highlight_text import htext\n",
    "\n",
    "from scrape import scrape_data_fbref as fbref\n",
    "from scrape import scrape_data_understat as understat"
   ]
  },
  {
   "cell_type": "code",
   "execution_count": 3,
   "metadata": {},
   "outputs": [],
   "source": [
    "title_font = \"Alegreya Sans\"\n",
    "body_font = \"Open Sans\"\n",
    "text_color = \"w\"\n",
    "background = \"#202020\"\n",
    "filler = \"#FFFF50\"\n",
    "primary = \"#FF6666\"\n",
    "\n",
    "mpl.rcParams['xtick.color'] = text_color\n",
    "mpl.rcParams['ytick.color'] = text_color\n",
    "mpl.rcParams['xtick.labelsize'] = 10\n",
    "mpl.rcParams['ytick.labelsize'] = 10"
   ]
  },
  {
   "cell_type": "code",
   "execution_count": 18,
   "metadata": {},
   "outputs": [],
   "source": [
    "def draw_xG_pitch(df, ax):\n",
    "    #SETTING UP THE MPL AXIS FOR THE FIRST SEASON\n",
    "    pitch = mplsoccer.VerticalPitch(half=True,pitch_type='opta', pitch_color='black')\n",
    "    ax.patch.set_facecolor(background)\n",
    "    pitch.draw(ax=ax)\n",
    "\n",
    "    #PLOTTING OTHER SHOTS\n",
    "    pitch.scatter(df[df['Result']!='Goal']['X'],\n",
    "                df[df['Result']!='Goal']['Y'],\n",
    "                s=np.sqrt(df[df['Result']!='Goal']['xG'])*100,\n",
    "                marker='o',\n",
    "                alpha=0.7,\n",
    "                edgecolor='black',\n",
    "                facecolor='white',\n",
    "                ax=ax,\n",
    "                label='Não Golo'\n",
    "    )\n",
    "\n",
    "    pitch.scatter(df[df['Result']=='Goal']['X'],\n",
    "                df[df['Result']=='Goal']['Y'],\n",
    "                s=np.sqrt(df[df['Result']=='Goal']['xG'])*100,\n",
    "                marker='o',\n",
    "                alpha=0.9,\n",
    "                edgecolor='black',\n",
    "                facecolor=filler,\n",
    "                ax=ax,\n",
    "                label='Golo'\n",
    "    )\n",
    "\n",
    "    # ADDING THE LEGEND\n",
    "    ax.legend(loc='lower right').get_texts()[0].set_color(\"black\")\n",
    "    ax.text(25,61,'Golos : '+str(len(df[df['Result']=='Goal'])), weight='bold', size=12, color='white', fontfamily=body_font)\n",
    "    ax.text(25,64,f\"xG : {round(sum(df['xG']),2)}\", weight='bold', size=12, color='white', fontfamily=body_font)\n",
    "    ax.text(25,58,'Remates : '+str(len(df)), weight='bold', size=12, color='white', fontfamily=body_font)"
   ]
  },
  {
   "cell_type": "code",
   "execution_count": 23,
   "metadata": {},
   "outputs": [],
   "source": [
    "\n",
    "def draw_xG_pitch(df, ax):\n",
    "    #SETTING UP THE MPL AXIS FOR THE FIRST SEASON\n",
    "    pitch = mplsoccer.VerticalPitch(half=True,pitch_type='opta', pitch_color=background)\n",
    "    ax.patch.set_facecolor(background)\n",
    "    pitch.draw(ax=ax)\n",
    "\n",
    "    #PLOTTING OTHER SHOTS\n",
    "    pitch.scatter(df[df['Result']!='Goal']['X'],\n",
    "                df[df['Result']!='Goal']['Y'],\n",
    "                s=np.sqrt(df[df['Result']!='Goal']['xG'])*100,\n",
    "                marker='o',\n",
    "                alpha=0.7,\n",
    "                edgecolor='black',\n",
    "                facecolor='white',\n",
    "                ax=ax,\n",
    "                label='Não Golo'\n",
    "    )\n",
    "\n",
    "    pitch.scatter(df[df['Result']=='Goal']['X'],\n",
    "                df[df['Result']=='Goal']['Y'],\n",
    "                s=np.sqrt(df[df['Result']=='Goal']['xG'])*100,\n",
    "                marker='o',\n",
    "                alpha=0.9,\n",
    "                edgecolor='black',\n",
    "                facecolor='yellow',\n",
    "                ax=ax,\n",
    "                label='Golo'\n",
    "    )\n",
    "\n",
    "    # ADDING THE LEGEND\n",
    "    ax.legend(loc='lower right').get_texts()[0].set_color(background)\n",
    "    ax.text(25,61,'Golos : '+str(len(df[df['Result']=='Goal'])), weight='bold', size=12, color=text_color, fontfamily=body_font)\n",
    "    ax.text(25,64,f\"xG : {round(sum(df['xG']),2)}\", weight='bold', size=12, color=text_color, fontfamily=body_font)\n",
    "    ax.text(25,58,'Remates : '+str(len(df)), weight='bold', size=12, color=text_color, fontfamily=body_font)"
   ]
  },
  {
   "cell_type": "code",
   "execution_count": 44,
   "metadata": {},
   "outputs": [
    {
     "data": {
      "image/png": "[encoded data removed]",
      "text/plain": [
       "<Figure size 864x360 with 1 Axes>"
      ]
     },
     "metadata": {},
     "output_type": "display_data"
    }
   ],
   "source": [
    "# SETTING UP THE AXES\n",
    "fig, ax = plt.subplots(figsize=(12,5))\n",
    "ax.axis('off')\n",
    "fig.set_facecolor(background)\n",
    "\n",
    "df_understat = understat.readfromurl(\"https://understat.com/player/8260\")\n",
    "\n",
    "#ax = fig.add_axes([0, 0.05, 0.45, 0.8])\n",
    "df_fil = df_understat.loc[df_understat['Season']==2019]\n",
    "draw_xG_pitch(df_fil, ax)\n",
    "ax.set_title(\"Erling Haaland\", weight=\"bold\", fontsize=20, fontfamily=title_font, color=text_color)\n",
    "\n",
    "# ADDING INFO\n",
    "fig.text(0.25, -0.025, \"Criado por João Alves / @joao97_alves. Dados obtidos em understat.com\",\n",
    "        fontsize=11, fontfamily=body_font, color=text_color)\n",
    "\n",
    "plt.tight_layout()\n",
    "plt.savefig(\"example_shot_map.png\", bbox_inches='tight', dpi=300) "
   ]
  },
  {
   "cell_type": "code",
   "execution_count": null,
   "metadata": {},
   "outputs": [],
   "source": []
  }
 ],
 "metadata": {
  "kernelspec": {
   "display_name": "Python 3.8.2 64-bit",
   "language": "python",
   "name": "python3"
  },
  "language_info": {
   "codemirror_mode": {
    "name": "ipython",
    "version": 3
   },
   "file_extension": ".py",
   "mimetype": "text/x-python",
   "name": "python",
   "nbconvert_exporter": "python",
   "pygments_lexer": "ipython3",
   "version": "3.8.2"
  },
  "orig_nbformat": 4,
  "vscode": {
   "interpreter": {
    "hash": "31f2aee4e71d21fbe5cf8b01ff0e069b9275f58929596ceb00d14d90e3e16cd6"
   }
  }
 },
 "nbformat": 4,
 "nbformat_minor": 2
}
